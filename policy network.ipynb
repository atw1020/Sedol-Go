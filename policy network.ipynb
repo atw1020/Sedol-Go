{
 "cells": [
  {
   "cell_type": "code",
   "execution_count": 4,
   "metadata": {
    "collapsed": true
   },
   "outputs": [],
   "source": [
    "# imports\n",
    "from tensorflow import keras\n",
    "from keras import layers\n",
    "\n",
    "import numpy as np\n",
    "\n",
    "import sente\n",
    "from sente import sgf"
   ]
  },
  {
   "cell_type": "markdown",
   "source": [
    "Initialize the network\n",
    "\n",
    "Network Architecture originally based on The original AlphaGo Lee Architecture\n",
    "\n",
    "> \"The input to the policy network is a 19 × 19 × 48 image stack consisting of 48 feature planes. The first\n",
    "> hidden layer zero pads the input into a 23 × 23 image, then convolves k filters of kernel size 5 × 5 with\n",
    "> stride 1 with the input image and applies a rectifier nonlinearity. Each of the subsequent hidden layers 2 to\n",
    "> 12 zero pads the respective previous hidden layer into a 21 × 21 image, then convolves k filters of kernel size\n",
    "> 3 × 3 with stride 1, again followed by a rectifier nonlinearity. The final layer convolves 1 filter of kernel\n",
    "> size 1 × 1 with stride 1, with a different bias for each position, and applies a softmax func- tion. The match\n",
    "> version of AlphaGo used k = 192 filters; Fig. 2b and Extended Data Table 3 additionally show the results of\n",
    "> training with k = 128, 256 and 384 filters.\"\n",
    "\n",
    "A few modifications have been made\n",
    "\n",
    "- Only has 4 input Features instead of 48\n",
    "- Uses batch normalization instead of dropout"
   ],
   "metadata": {
    "collapsed": false
   }
  },
  {
   "cell_type": "code",
   "execution_count": 11,
   "outputs": [
    {
     "name": "stdout",
     "output_type": "stream",
     "text": [
      "Model: \"Policy Network\"\n",
      "_________________________________________________________________\n",
      " Layer (type)                Output Shape              Param #   \n",
      "=================================================================\n",
      " input_9 (InputLayer)        [(None, 19, 19, 4)]       0         \n",
      "                                                                 \n",
      " conv2d_25 (Conv2D)          (None, 19, 19, 192)       19392     \n",
      "                                                                 \n",
      " batch_normalization_24 (Bat  (None, 19, 19, 192)      768       \n",
      " chNormalization)                                                \n",
      "                                                                 \n",
      " conv2d_26 (Conv2D)          (None, 19, 19, 192)       331968    \n",
      "                                                                 \n",
      " batch_normalization_25 (Bat  (None, 19, 19, 192)      768       \n",
      " chNormalization)                                                \n",
      "                                                                 \n",
      " conv2d_27 (Conv2D)          (None, 19, 19, 192)       331968    \n",
      "                                                                 \n",
      " batch_normalization_26 (Bat  (None, 19, 19, 192)      768       \n",
      " chNormalization)                                                \n",
      "                                                                 \n",
      " conv2d_28 (Conv2D)          (None, 19, 19, 192)       331968    \n",
      "                                                                 \n",
      " batch_normalization_27 (Bat  (None, 19, 19, 192)      768       \n",
      " chNormalization)                                                \n",
      "                                                                 \n",
      " conv2d_29 (Conv2D)          (None, 19, 19, 192)       331968    \n",
      "                                                                 \n",
      " batch_normalization_28 (Bat  (None, 19, 19, 192)      768       \n",
      " chNormalization)                                                \n",
      "                                                                 \n",
      " conv2d_30 (Conv2D)          (None, 19, 19, 192)       331968    \n",
      "                                                                 \n",
      " batch_normalization_29 (Bat  (None, 19, 19, 192)      768       \n",
      " chNormalization)                                                \n",
      "                                                                 \n",
      " conv2d_31 (Conv2D)          (None, 19, 19, 192)       331968    \n",
      "                                                                 \n",
      " batch_normalization_30 (Bat  (None, 19, 19, 192)      768       \n",
      " chNormalization)                                                \n",
      "                                                                 \n",
      " conv2d_32 (Conv2D)          (None, 19, 19, 192)       331968    \n",
      "                                                                 \n",
      " batch_normalization_31 (Bat  (None, 19, 19, 192)      768       \n",
      " chNormalization)                                                \n",
      "                                                                 \n",
      " conv2d_33 (Conv2D)          (None, 19, 19, 192)       331968    \n",
      "                                                                 \n",
      " batch_normalization_32 (Bat  (None, 19, 19, 192)      768       \n",
      " chNormalization)                                                \n",
      "                                                                 \n",
      " conv2d_34 (Conv2D)          (None, 19, 19, 192)       331968    \n",
      "                                                                 \n",
      " batch_normalization_33 (Bat  (None, 19, 19, 192)      768       \n",
      " chNormalization)                                                \n",
      "                                                                 \n",
      " conv2d_35 (Conv2D)          (None, 19, 19, 192)       331968    \n",
      "                                                                 \n",
      " batch_normalization_34 (Bat  (None, 19, 19, 192)      768       \n",
      " chNormalization)                                                \n",
      "                                                                 \n",
      " conv2d_36 (Conv2D)          (None, 19, 19, 192)       331968    \n",
      "                                                                 \n",
      " batch_normalization_35 (Bat  (None, 19, 19, 192)      768       \n",
      " chNormalization)                                                \n",
      "                                                                 \n",
      " conv2d_37 (Conv2D)          (None, 19, 19, 1)         193       \n",
      "                                                                 \n",
      " softmax (Softmax)           (None, 19, 19, 1)         0         \n",
      "                                                                 \n",
      "=================================================================\n",
      "Total params: 3,680,449\n",
      "Trainable params: 3,675,841\n",
      "Non-trainable params: 4,608\n",
      "_________________________________________________________________\n"
     ]
    }
   ],
   "source": [
    "# get the numpy spec from a generic game\n",
    "input_numpy = sente.Game().numpy()\n",
    "\n",
    "# input layer\n",
    "input_layer = layers.Input(shape=input_numpy.shape)\n",
    "\n",
    "# First layer has a kernel size of 5\n",
    "x = layers.Conv2D(filters=192,\n",
    "                  kernel_size=5,\n",
    "                  padding=\"same\",\n",
    "                  activation=\"relu\"\n",
    "                  )(input_layer)\n",
    "x = layers.BatchNormalization()(x)\n",
    "\n",
    "# subsequent layers have kernel sizes of 3\n",
    "for i in range(11):\n",
    "    x = layers.Conv2D(filters=192,\n",
    "                      kernel_size=3,\n",
    "                      activation=\"relu\",\n",
    "                      padding=\"same\")(x)\n",
    "    x = layers.BatchNormalization()(x)\n",
    "\n",
    "x = layers.Conv2D(filters=1,\n",
    "                  kernel_size=1)(x)\n",
    "output = layers.Softmax()(x)\n",
    "\n",
    "model = keras.Model(inputs=input_layer, outputs=output, name=\"Policy Network\")\n",
    "model.summary()"
   ],
   "metadata": {
    "collapsed": false
   }
  }
 ],
 "metadata": {
  "kernelspec": {
   "display_name": "Python 3",
   "language": "python",
   "name": "python3"
  },
  "language_info": {
   "codemirror_mode": {
    "name": "ipython",
    "version": 2
   },
   "file_extension": ".py",
   "mimetype": "text/x-python",
   "name": "python",
   "nbconvert_exporter": "python",
   "pygments_lexer": "ipython2",
   "version": "2.7.6"
  }
 },
 "nbformat": 4,
 "nbformat_minor": 0
}
