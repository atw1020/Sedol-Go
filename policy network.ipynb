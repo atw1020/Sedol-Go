{
 "cells": [
  {
   "cell_type": "code",
   "execution_count": 1,
   "metadata": {
    "collapsed": true
   },
   "outputs": [],
   "source": [
    "# glob\n",
    "import sys\n",
    "import math\n",
    "import glob\n",
    "import traceback\n",
    "\n",
    "# keras\n",
    "import keras\n",
    "from keras import layers\n",
    "\n",
    "# numpy\n",
    "import numpy as np\n",
    "\n",
    "# tensorflow\n",
    "import tensorflow as tf\n",
    "\n",
    "# sente\n",
    "import sente\n",
    "from sente import sgf"
   ]
  },
  {
   "cell_type": "markdown",
   "source": [
    "Initialize the network\n",
    "\n",
    "Network Architecture originally based on The original AlphaGo Lee Architecture\n",
    "\n",
    "> \"The input to the policy network is a 19 × 19 × 48 image stack consisting of 48 feature planes. The first\n",
    "> hidden layer zero pads the input into a 23 × 23 image, then convolves k filters of kernel size 5 × 5 with\n",
    "> stride 1 with the input image and applies a rectifier nonlinearity. Each of the subsequent hidden layers 2 to\n",
    "> 12 zero pads the respective previous hidden layer into a 21 × 21 image, then convolves k filters of kernel size\n",
    "> 3 × 3 with stride 1, again followed by a rectifier nonlinearity. The final layer convolves 1 filter of kernel\n",
    "> size 1 × 1 with stride 1, with a different bias for each position, and applies a softmax func- tion. The match\n",
    "> version of AlphaGo used k = 192 filters; Fig. 2b and Extended Data Table 3 additionally show the results of\n",
    "> training with k = 128, 256 and 384 filters.\"\n",
    "\n",
    "A few modifications have been made\n",
    "\n",
    "- Only has 4 input Features instead of 48\n",
    "- Uses batch normalization instead of dropout"
   ],
   "metadata": {
    "collapsed": false
   }
  },
  {
   "cell_type": "markdown",
   "source": [
    "Initialize the Data Generator to train the network with.\n",
    "\n",
    "We have 3 basic steps here:\n",
    "1) Create a generator for 19x19 games\n",
    "    1) Glob the files so we have a complete list of them\n",
    "    2) Filter out any games that are not 19x19\n",
    "    3) Filter out any games that have invalid moves (according to sente)\n",
    "2) Extract the features and label\n",
    "    1) Iterate through the files"
   ],
   "metadata": {
    "collapsed": false
   }
  },
  {
   "cell_type": "code",
   "execution_count": 2,
   "outputs": [
    {
     "name": "stdout",
     "output_type": "stream",
     "text": [
      "Metal device set to: Apple M1\n"
     ]
    },
    {
     "name": "stderr",
     "output_type": "stream",
     "text": [
      "2022-11-06 21:54:49.087841: I tensorflow/core/common_runtime/pluggable_device/pluggable_device_factory.cc:305] Could not identify NUMA node of platform GPU ID 0, defaulting to 0. Your kernel may not have been built with NUMA support.\n",
      "2022-11-06 21:54:49.087926: I tensorflow/core/common_runtime/pluggable_device/pluggable_device_factory.cc:271] Created TensorFlow device (/job:localhost/replica:0/task:0/device:GPU:0 with 0 MB memory) -> physical PluggableDevice (device: 0, name: METAL, pci bus id: <undefined>)\n"
     ]
    },
    {
     "name": "stdout",
     "output_type": "stream",
     "text": [
      "Model: \"Policy-Network\"\n",
      "_________________________________________________________________\n",
      " Layer (type)                Output Shape              Param #   \n",
      "=================================================================\n",
      " input_1 (InputLayer)        [(None, 19, 19, 4)]       0         \n",
      "                                                                 \n",
      " conv2d (Conv2D)             (None, 19, 19, 192)       19392     \n",
      "                                                                 \n",
      " batch_normalization (BatchN  (None, 19, 19, 192)      768       \n",
      " ormalization)                                                   \n",
      "                                                                 \n",
      " conv2d_1 (Conv2D)           (None, 19, 19, 192)       331968    \n",
      "                                                                 \n",
      " batch_normalization_1 (Batc  (None, 19, 19, 192)      768       \n",
      " hNormalization)                                                 \n",
      "                                                                 \n",
      " conv2d_2 (Conv2D)           (None, 19, 19, 192)       331968    \n",
      "                                                                 \n",
      " batch_normalization_2 (Batc  (None, 19, 19, 192)      768       \n",
      " hNormalization)                                                 \n",
      "                                                                 \n",
      " conv2d_3 (Conv2D)           (None, 19, 19, 192)       331968    \n",
      "                                                                 \n",
      " batch_normalization_3 (Batc  (None, 19, 19, 192)      768       \n",
      " hNormalization)                                                 \n",
      "                                                                 \n",
      " conv2d_4 (Conv2D)           (None, 19, 19, 192)       331968    \n",
      "                                                                 \n",
      " batch_normalization_4 (Batc  (None, 19, 19, 192)      768       \n",
      " hNormalization)                                                 \n",
      "                                                                 \n",
      " conv2d_5 (Conv2D)           (None, 19, 19, 192)       331968    \n",
      "                                                                 \n",
      " batch_normalization_5 (Batc  (None, 19, 19, 192)      768       \n",
      " hNormalization)                                                 \n",
      "                                                                 \n",
      " conv2d_6 (Conv2D)           (None, 19, 19, 192)       331968    \n",
      "                                                                 \n",
      " batch_normalization_6 (Batc  (None, 19, 19, 192)      768       \n",
      " hNormalization)                                                 \n",
      "                                                                 \n",
      " conv2d_7 (Conv2D)           (None, 19, 19, 192)       331968    \n",
      "                                                                 \n",
      " batch_normalization_7 (Batc  (None, 19, 19, 192)      768       \n",
      " hNormalization)                                                 \n",
      "                                                                 \n",
      " conv2d_8 (Conv2D)           (None, 19, 19, 192)       331968    \n",
      "                                                                 \n",
      " batch_normalization_8 (Batc  (None, 19, 19, 192)      768       \n",
      " hNormalization)                                                 \n",
      "                                                                 \n",
      " conv2d_9 (Conv2D)           (None, 19, 19, 192)       331968    \n",
      "                                                                 \n",
      " batch_normalization_9 (Batc  (None, 19, 19, 192)      768       \n",
      " hNormalization)                                                 \n",
      "                                                                 \n",
      " conv2d_10 (Conv2D)          (None, 19, 19, 192)       331968    \n",
      "                                                                 \n",
      " batch_normalization_10 (Bat  (None, 19, 19, 192)      768       \n",
      " chNormalization)                                                \n",
      "                                                                 \n",
      " conv2d_11 (Conv2D)          (None, 19, 19, 192)       331968    \n",
      "                                                                 \n",
      " batch_normalization_11 (Bat  (None, 19, 19, 192)      768       \n",
      " chNormalization)                                                \n",
      "                                                                 \n",
      " conv2d_12 (Conv2D)          (None, 19, 19, 1)         193       \n",
      "                                                                 \n",
      " flatten (Flatten)           (None, 361)               0         \n",
      "                                                                 \n",
      " softmax (Softmax)           (None, 361)               0         \n",
      "                                                                 \n",
      "=================================================================\n",
      "Total params: 3,680,449\n",
      "Trainable params: 3,675,841\n",
      "Non-trainable params: 4,608\n",
      "_________________________________________________________________\n"
     ]
    }
   ],
   "source": [
    "# get the numpy spec from a generic game\n",
    "input_numpy = sente.Game().numpy()\n",
    "\n",
    "# input layer\n",
    "input_layer = layers.Input(shape=input_numpy.shape)\n",
    "x = input_layer\n",
    "\n",
    "# First layer has a kernel size of 5\n",
    "\n",
    "x = layers.Conv2D(filters=192,\n",
    "                  kernel_size=5,\n",
    "                  padding=\"same\",\n",
    "                  activation=\"relu\"\n",
    "                  )(input_layer)\n",
    "x = layers.BatchNormalization()(x)\n",
    "\n",
    "# subsequent layers have kernel sizes of 3\n",
    "for i in range(11):\n",
    "    x = layers.Conv2D(filters=192,\n",
    "                      kernel_size=3,\n",
    "                      activation=\"relu\",\n",
    "                      padding=\"same\")(x)\n",
    "    x = layers.BatchNormalization()(x)\n",
    "\n",
    "# output layer adds everything together with bias\n",
    "x = layers.Conv2D(filters=1,\n",
    "                  kernel_size=1,\n",
    "                  activation=\"relu\")(x)\n",
    "x = layers.Flatten()(x)\n",
    "output = layers.Softmax()(x)\n",
    "\n",
    "model = keras.Model(inputs=input_layer, outputs=output, name=\"Policy-Network\")\n",
    "optimizer = keras.optimizers.Adam(learning_rate=0.0001)\n",
    "model.compile(optimizer=optimizer, loss=\"categorical_crossentropy\")\n",
    "# keras.utils.plot_model(model)\n",
    "\n",
    "model.summary()"
   ],
   "metadata": {
    "collapsed": false
   }
  },
  {
   "cell_type": "code",
   "execution_count": 3,
   "outputs": [],
   "source": [
    "def sgf_generator(glob_string):\n",
    "    \"\"\"\n",
    "\n",
    "    create an SGF file generator.\n",
    "\n",
    "    :param glob_string: string to glob files with\n",
    "    :return: a generator yielding\n",
    "    \"\"\"\n",
    "\n",
    "    # obtain a generator for the glob\n",
    "    files = glob.iglob(glob_string)\n",
    "\n",
    "    for file in files:\n",
    "\n",
    "        try:\n",
    "            game = sgf.load(file)\n",
    "\n",
    "            # if the board is not 19x19, skip\n",
    "            if game.numpy().shape != (19, 19, 4):\n",
    "                continue\n",
    "            else:\n",
    "                # yield the game\n",
    "                yield game\n",
    "        except (sente.exceptions.InvalidSGFException,\n",
    "                ValueError) as error:\n",
    "            traceback.print_exception(error, file=sys.stderr)\n",
    "            continue"
   ],
   "metadata": {
    "collapsed": false
   }
  },
  {
   "cell_type": "code",
   "execution_count": 4,
   "outputs": [],
   "source": [
    "def get_8_fold_symmetries_x(game: sente.Game):\n",
    "    \"\"\"\n",
    "\n",
    "    generates a numpy array containing a sente game, expanded to all of its 8-fold symmetries\n",
    "\n",
    "    :param game: the game to get the symmetries for\n",
    "    :return: 8x19x19x4 array containing all duplicates\n",
    "    \"\"\"\n",
    "\n",
    "    board = game.numpy()\n",
    "    transpose = np.transpose(board, axes=(1, 0, 2))\n",
    "    x = np.empty((8,) + board.shape)\n",
    "\n",
    "    x[0, :, :, :] = board\n",
    "    x[1, :, :, :] = np.flip(board, axis=0)\n",
    "    x[2, :, :, :] = np.flip(board, axis=1)\n",
    "    x[3, :, :, :] = np.flip(board, axis=(0, 1))\n",
    "    x[4, :, :, :] = transpose\n",
    "    x[5, :, :, :] = np.flip(transpose, axis=0)\n",
    "    x[6, :, :, :] = np.flip(transpose, axis=1)\n",
    "    x[7, :, :, :] = np.flip(transpose, axis=(0, 1))\n",
    "\n",
    "    return x\n",
    "\n",
    "\n",
    "def get_8_fold_symmetries_y(move: np.array):\n",
    "    \"\"\"\n",
    "\n",
    "    generates a numpy array containing a sente game, expanded to all of its 8-fold symmetries\n",
    "\n",
    "    :param game: the game to get the symmetries for\n",
    "    :return: 8x19x19x4 array containing all duplicates\n",
    "    \"\"\"\n",
    "\n",
    "    transpose = np.transpose(move)\n",
    "    x = np.empty((8,) + move.shape, dtype=np.ubyte)\n",
    "\n",
    "    x[0, :, :] = move\n",
    "    x[1, :, :] = np.flip(move, axis=0)\n",
    "    x[2, :, :] = np.flip(move, axis=1)\n",
    "    x[3, :, :] = np.flip(move, axis=(0, 1))\n",
    "    x[4, :, :] = transpose\n",
    "    x[5, :, :] = np.flip(transpose, axis=0)\n",
    "    x[6, :, :] = np.flip(transpose, axis=1)\n",
    "    x[7, :, :] = np.flip(transpose, axis=(0, 1))\n",
    "\n",
    "    x = np.reshape(x, (8, 19 * 19))\n",
    "\n",
    "    return x\n"
   ],
   "metadata": {
    "collapsed": false
   }
  },
  {
   "cell_type": "code",
   "execution_count": 5,
   "outputs": [],
   "source": [
    "def training_data_generator(glob_string: str):\n",
    "    \"\"\"\n",
    "\n",
    "    creates a training data generator object\n",
    "\n",
    "    :return:\n",
    "    \"\"\"\n",
    "\n",
    "    file_generator = sgf_generator(glob_string)\n",
    "\n",
    "    batch_size = 64\n",
    "\n",
    "    active_games = set()\n",
    "    active_games_size = batch_size // 8\n",
    "\n",
    "    # go through all the moves in the game\n",
    "    while True:\n",
    "\n",
    "        # remove any games in which we either encounter an illegal move or there are no more moves\n",
    "        for game in active_games.copy():\n",
    "            next_branches = game.get_branches()\n",
    "\n",
    "            # remove the game if it has no more moves or the next move is illegal\n",
    "            if len(next_branches) == 0:\n",
    "                active_games.remove(game)\n",
    "                continue\n",
    "            if not game.is_legal(next_branches[0]):\n",
    "                active_games.remove(game)\n",
    "\n",
    "        # fill active games if we can\n",
    "        while len(active_games) < active_games_size:\n",
    "            next_game = next(file_generator, None)\n",
    "\n",
    "            # only add to active games\n",
    "            if next_game is None:\n",
    "                # reset the generator\n",
    "                print(\"no more games to train on\", file=sys.stderr)\n",
    "                return\n",
    "\n",
    "            branches = next_game.get_branches()\n",
    "\n",
    "            if len(branches) != 0:\n",
    "                # only add the move if the next branch is legal\n",
    "                if next_game.is_legal(next_game.get_branches()[0]):\n",
    "                    active_games.add(next_game)\n",
    "\n",
    "        # go through all the active games and add the moves to the result\n",
    "\n",
    "        # first, compute the size of the batch we are currently operating on\n",
    "        current_batch_size = len(active_games) * 8\n",
    "\n",
    "        # initialize the empty arrays\n",
    "        x = np.zeros(shape=(current_batch_size, 19, 19, 4))\n",
    "        y = np.zeros(shape=(current_batch_size, 19 * 19))\n",
    "\n",
    "        # go through all the active games and fill the arrays\n",
    "        for i, game in enumerate(active_games):\n",
    "\n",
    "            # obtain the branches\n",
    "            branches = game.get_branches()\n",
    "            move = branches[0]\n",
    "\n",
    "            move_array = np.zeros(shape=(19, 19))\n",
    "            move_array[move.get_x(), move.get_y()] = 1\n",
    "\n",
    "\n",
    "            # set x by getting the 8-fold symmetries\n",
    "            x[8 * i:8 * (i + 1)] = get_8_fold_symmetries_x(game)\n",
    "            y[8 * i:8 * (i + 1)] = get_8_fold_symmetries_y(move_array)\n",
    "\n",
    "            # play the move on the board\n",
    "            game.play(move)\n",
    "\n",
    "        # yield the results\n",
    "        yield x, y"
   ],
   "metadata": {
    "collapsed": false
   }
  },
  {
   "cell_type": "markdown",
   "source": [
    "Fit the Model"
   ],
   "metadata": {
    "collapsed": false
   }
  },
  {
   "cell_type": "code",
   "execution_count": null,
   "outputs": [
    {
     "name": "stdout",
     "output_type": "stream",
     "text": [
      "Epoch 1/72\n"
     ]
    },
    {
     "name": "stderr",
     "output_type": "stream",
     "text": [
      "/var/folders/8p/v3fpbly136b72tk4pw7qhr4r0000gp/T/ipykernel_90259/1532231128.py:16: Warning: Unknown SGF Property: \"JD\"\n",
      "  game = sgf.load(file)\n",
      "2022-11-06 21:54:49.553883: W tensorflow/core/platform/profile_utils/cpu_utils.cc:128] Failed to get CPU frequency: 0 Hz\n",
      "2022-11-06 21:54:50.093075: I tensorflow/core/grappler/optimizers/custom_graph_optimizer_registry.cc:113] Plugin optimizer for device_type GPU is enabled.\n"
     ]
    },
    {
     "name": "stdout",
     "output_type": "stream",
     "text": [
      " 343/1000 [=========>....................] - ETA: 3:44 - loss: 5.3002"
     ]
    },
    {
     "name": "stderr",
     "output_type": "stream",
     "text": [
      "/var/folders/8p/v3fpbly136b72tk4pw7qhr4r0000gp/T/ipykernel_90259/1532231128.py:16: Warning: The Property \"AP\" is not supported on this version of SGF (FF[1])\n",
      "The file was automatically converted to FF[4]\n",
      "  game = sgf.load(file)\n"
     ]
    },
    {
     "name": "stdout",
     "output_type": "stream",
     "text": [
      "1000/1000 [==============================] - 343s 342ms/step - loss: 3.7605\n",
      "Epoch 2/72\n",
      " 125/1000 [==>...........................] - ETA: 5:07 - loss: 2.3717"
     ]
    }
   ],
   "source": [
    "# instantiate the generator\n",
    "generator = training_data_generator(\"sgfs-uploaded/*/*/*/*\")\n",
    "\n",
    "model.fit(generator, epochs=72, steps_per_epoch=1000)"
   ],
   "metadata": {
    "collapsed": false,
    "pycharm": {
     "is_executing": true
    }
   }
  }
 ],
 "metadata": {
  "kernelspec": {
   "display_name": "Python 3",
   "language": "python",
   "name": "python3"
  },
  "language_info": {
   "codemirror_mode": {
    "name": "ipython",
    "version": 2
   },
   "file_extension": ".py",
   "mimetype": "text/x-python",
   "name": "python",
   "nbconvert_exporter": "python",
   "pygments_lexer": "ipython2",
   "version": "2.7.6"
  }
 },
 "nbformat": 4,
 "nbformat_minor": 0
}
