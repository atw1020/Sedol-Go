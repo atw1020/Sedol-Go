{
 "cells": [
  {
   "cell_type": "code",
   "execution_count": 2,
   "metadata": {
    "collapsed": true
   },
   "outputs": [],
   "source": [
    "# built-in libraries\n",
    "import sys\n",
    "import math\n",
    "import glob\n",
    "import traceback\n",
    "\n",
    "# keras\n",
    "import keras\n",
    "from keras import layers\n",
    "\n",
    "# numpy\n",
    "import numpy as np\n",
    "\n",
    "# tensorflow\n",
    "import tensorflow as tf\n",
    "\n",
    "# matplotlib\n",
    "from matplotlib import pyplot as plt\n",
    "\n",
    "# sente\n",
    "import sente\n",
    "from sente import sgf\n",
    "\n",
    "# tqdm\n",
    "import tqdm"
   ]
  },
  {
   "cell_type": "markdown",
   "source": [
    "Initialize the network\n",
    "\n",
    "Network Architecture originally based on The original AlphaGo Lee Architecture\n",
    "\n",
    "> \"The input to the policy network is a 19 × 19 × 48 image stack consisting of 48 feature planes. The first\n",
    "> hidden layer zero pads the input into a 23 × 23 image, then convolves k filters of kernel size 5 × 5 with\n",
    "> stride 1 with the input image and applies a rectifier nonlinearity. Each of the subsequent hidden layers 2 to\n",
    "> 12 zero pads the respective previous hidden layer into a 21 × 21 image, then convolves k filters of kernel size\n",
    "> 3 × 3 with stride 1, again followed by a rectifier nonlinearity. The final layer convolves 1 filter of kernel\n",
    "> size 1 × 1 with stride 1, with a different bias for each position, and applies a softmax func- tion. The match\n",
    "> version of AlphaGo used k = 192 filters; Fig. 2b and Extended Data Table 3 additionally show the results of\n",
    "> training with k = 128, 256 and 384 filters.\"\n",
    "\n",
    "A few modifications have been made\n",
    "\n",
    "- Only has 4 input Features instead of 48\n",
    "- Uses batch normalization instead of dropout"
   ],
   "metadata": {
    "collapsed": false
   }
  },
  {
   "cell_type": "markdown",
   "source": [
    "Initialize the Data Generator to train the network with.\n",
    "\n",
    "We have 3 basic steps here:\n",
    "1) Create a generator for 19x19 games\n",
    "    1) Glob the files so we have a complete list of them\n",
    "    2) Filter out any games that are not 19x19\n",
    "    3) Filter out any games that have invalid moves (according to sente)\n",
    "2) Extract the features and label\n",
    "    1) Iterate through the files"
   ],
   "metadata": {
    "collapsed": false
   }
  },
  {
   "cell_type": "code",
   "execution_count": 3,
   "outputs": [
    {
     "name": "stdout",
     "output_type": "stream",
     "text": [
      "Metal device set to: Apple M1\n"
     ]
    },
    {
     "name": "stderr",
     "output_type": "stream",
     "text": [
      "2022-11-12 11:08:40.514453: I tensorflow/core/common_runtime/pluggable_device/pluggable_device_factory.cc:305] Could not identify NUMA node of platform GPU ID 0, defaulting to 0. Your kernel may not have been built with NUMA support.\n",
      "2022-11-12 11:08:40.514999: I tensorflow/core/common_runtime/pluggable_device/pluggable_device_factory.cc:271] Created TensorFlow device (/job:localhost/replica:0/task:0/device:GPU:0 with 0 MB memory) -> physical PluggableDevice (device: 0, name: METAL, pci bus id: <undefined>)\n"
     ]
    },
    {
     "name": "stdout",
     "output_type": "stream",
     "text": [
      "Model: \"Policy-Network\"\n",
      "_________________________________________________________________\n",
      " Layer (type)                Output Shape              Param #   \n",
      "=================================================================\n",
      " input_1 (InputLayer)        [(None, 19, 19, 4)]       0         \n",
      "                                                                 \n",
      " conv2d (Conv2D)             (None, 19, 19, 192)       19392     \n",
      "                                                                 \n",
      " batch_normalization (BatchN  (None, 19, 19, 192)      768       \n",
      " ormalization)                                                   \n",
      "                                                                 \n",
      " conv2d_1 (Conv2D)           (None, 19, 19, 192)       331968    \n",
      "                                                                 \n",
      " batch_normalization_1 (Batc  (None, 19, 19, 192)      768       \n",
      " hNormalization)                                                 \n",
      "                                                                 \n",
      " conv2d_2 (Conv2D)           (None, 19, 19, 192)       331968    \n",
      "                                                                 \n",
      " batch_normalization_2 (Batc  (None, 19, 19, 192)      768       \n",
      " hNormalization)                                                 \n",
      "                                                                 \n",
      " conv2d_3 (Conv2D)           (None, 19, 19, 192)       331968    \n",
      "                                                                 \n",
      " batch_normalization_3 (Batc  (None, 19, 19, 192)      768       \n",
      " hNormalization)                                                 \n",
      "                                                                 \n",
      " conv2d_4 (Conv2D)           (None, 19, 19, 192)       331968    \n",
      "                                                                 \n",
      " batch_normalization_4 (Batc  (None, 19, 19, 192)      768       \n",
      " hNormalization)                                                 \n",
      "                                                                 \n",
      " conv2d_5 (Conv2D)           (None, 19, 19, 192)       331968    \n",
      "                                                                 \n",
      " batch_normalization_5 (Batc  (None, 19, 19, 192)      768       \n",
      " hNormalization)                                                 \n",
      "                                                                 \n",
      " conv2d_6 (Conv2D)           (None, 19, 19, 192)       331968    \n",
      "                                                                 \n",
      " batch_normalization_6 (Batc  (None, 19, 19, 192)      768       \n",
      " hNormalization)                                                 \n",
      "                                                                 \n",
      " conv2d_7 (Conv2D)           (None, 19, 19, 192)       331968    \n",
      "                                                                 \n",
      " batch_normalization_7 (Batc  (None, 19, 19, 192)      768       \n",
      " hNormalization)                                                 \n",
      "                                                                 \n",
      " conv2d_8 (Conv2D)           (None, 19, 19, 192)       331968    \n",
      "                                                                 \n",
      " batch_normalization_8 (Batc  (None, 19, 19, 192)      768       \n",
      " hNormalization)                                                 \n",
      "                                                                 \n",
      " conv2d_9 (Conv2D)           (None, 19, 19, 192)       331968    \n",
      "                                                                 \n",
      " batch_normalization_9 (Batc  (None, 19, 19, 192)      768       \n",
      " hNormalization)                                                 \n",
      "                                                                 \n",
      " conv2d_10 (Conv2D)          (None, 19, 19, 192)       331968    \n",
      "                                                                 \n",
      " batch_normalization_10 (Bat  (None, 19, 19, 192)      768       \n",
      " chNormalization)                                                \n",
      "                                                                 \n",
      " conv2d_11 (Conv2D)          (None, 19, 19, 192)       331968    \n",
      "                                                                 \n",
      " batch_normalization_11 (Bat  (None, 19, 19, 192)      768       \n",
      " chNormalization)                                                \n",
      "                                                                 \n",
      " conv2d_12 (Conv2D)          (None, 19, 19, 1)         193       \n",
      "                                                                 \n",
      " flatten (Flatten)           (None, 361)               0         \n",
      "                                                                 \n",
      " softmax (Softmax)           (None, 361)               0         \n",
      "                                                                 \n",
      "=================================================================\n",
      "Total params: 3,680,449\n",
      "Trainable params: 3,675,841\n",
      "Non-trainable params: 4,608\n",
      "_________________________________________________________________\n"
     ]
    }
   ],
   "source": [
    "# get the numpy spec from a generic game\n",
    "input_numpy = sente.Game().numpy()\n",
    "\n",
    "# input layer\n",
    "input_layer = layers.Input(shape=input_numpy.shape)\n",
    "x = input_layer\n",
    "\n",
    "# First layer has a kernel size of 5\n",
    "\n",
    "x = layers.Conv2D(filters=192,\n",
    "                  kernel_size=5,\n",
    "                  padding=\"same\",\n",
    "                  activation=\"relu\"\n",
    "                  )(input_layer)\n",
    "x = layers.BatchNormalization()(x)\n",
    "\n",
    "# subsequent layers have kernel sizes of 3\n",
    "for i in range(11):\n",
    "    x = layers.Conv2D(filters=192,\n",
    "                      kernel_size=3,\n",
    "                      activation=\"relu\",\n",
    "                      padding=\"same\")(x)\n",
    "    x = layers.BatchNormalization()(x)\n",
    "\n",
    "# output layer adds everything together with bias\n",
    "x = layers.Conv2D(filters=1,\n",
    "                  kernel_size=1,\n",
    "                  activation=\"relu\")(x)\n",
    "x = layers.Flatten()(x)\n",
    "output = layers.Softmax()(x)\n",
    "\n",
    "model = keras.Model(inputs=input_layer, outputs=output, name=\"Policy-Network\")\n",
    "# keras.utils.plot_model(model)\n",
    "\n",
    "model.summary()"
   ],
   "metadata": {
    "collapsed": false
   }
  },
  {
   "cell_type": "code",
   "execution_count": 11,
   "outputs": [],
   "source": [
    "def sgf_generator(glob_string):\n",
    "    \"\"\"\n",
    "\n",
    "    create an SGF file generator.\n",
    "\n",
    "    :param glob_string: string to glob files with\n",
    "    :return: a generator yielding\n",
    "    \"\"\"\n",
    "\n",
    "    # obtain a generator for the glob\n",
    "    files = glob.iglob(glob_string)\n",
    "\n",
    "    for file in files:\n",
    "\n",
    "        try:\n",
    "            game = sgf.load(file)\n",
    "            # game.play_default_sequence()\n",
    "\n",
    "            # if the board is not 19x19, skip\n",
    "            if game.numpy().shape != (19, 19, 4):\n",
    "                continue\n",
    "            else:\n",
    "                # yield the game\n",
    "                yield game\n",
    "        except (sente.exceptions.InvalidSGFException,\n",
    "                sente.exceptions.IllegalMoveException,\n",
    "                ValueError) as error:\n",
    "            traceback.print_exception(error, file=sys.stderr)\n",
    "            continue\n",
    "\n",
    "\n",
    "generator = sgf_generator(\"sgfs-uploaded/*/*/*/*\")"
   ],
   "metadata": {
    "collapsed": false
   }
  },
  {
   "cell_type": "code",
   "execution_count": 5,
   "outputs": [],
   "source": [
    "def get_8_fold_symmetries_x(game: sente.Game):\n",
    "    \"\"\"\n",
    "\n",
    "    generates a numpy array containing a sente game, expanded to all of its 8-fold symmetries\n",
    "\n",
    "    :param game: the game to get the symmetries for\n",
    "    :return: 8x19x19x4 array containing all duplicates\n",
    "    \"\"\"\n",
    "\n",
    "    board = game.numpy()\n",
    "    transpose = np.transpose(board, axes=(1, 0, 2))\n",
    "    x = np.empty((8,) + board.shape)\n",
    "\n",
    "    x[0, :, :, :] = board\n",
    "    x[1, :, :, :] = np.flip(board, axis=0)\n",
    "    x[2, :, :, :] = np.flip(board, axis=1)\n",
    "    x[3, :, :, :] = np.flip(board, axis=(0, 1))\n",
    "    x[4, :, :, :] = transpose\n",
    "    x[5, :, :, :] = np.flip(transpose, axis=0)\n",
    "    x[6, :, :, :] = np.flip(transpose, axis=1)\n",
    "    x[7, :, :, :] = np.flip(transpose, axis=(0, 1))\n",
    "\n",
    "    return x\n",
    "\n",
    "\n",
    "def get_8_fold_symmetries_y(move: np.array):\n",
    "    \"\"\"\n",
    "\n",
    "    generates a numpy array containing a sente game, expanded to all of its 8-fold symmetries\n",
    "\n",
    "    :param game: the game to get the symmetries for\n",
    "    :return: 8x19x19x4 array containing all duplicates\n",
    "    \"\"\"\n",
    "\n",
    "    transpose = np.transpose(move)\n",
    "    x = np.empty((8,) + move.shape, dtype=np.ubyte)\n",
    "\n",
    "    x[0, :, :] = move\n",
    "    x[1, :, :] = np.flip(move, axis=0)\n",
    "    x[2, :, :] = np.flip(move, axis=1)\n",
    "    x[3, :, :] = np.flip(move, axis=(0, 1))\n",
    "    x[4, :, :] = transpose\n",
    "    x[5, :, :] = np.flip(transpose, axis=0)\n",
    "    x[6, :, :] = np.flip(transpose, axis=1)\n",
    "    x[7, :, :] = np.flip(transpose, axis=(0, 1))\n",
    "\n",
    "    x = np.reshape(x, (8, 19 * 19))\n",
    "\n",
    "    return x\n"
   ],
   "metadata": {
    "collapsed": false
   }
  },
  {
   "cell_type": "code",
   "execution_count": 6,
   "outputs": [],
   "source": [
    "def training_data_generator(glob_string: str):\n",
    "    \"\"\"\n",
    "\n",
    "    creates a training data generator object\n",
    "\n",
    "    :return:\n",
    "    \"\"\"\n",
    "\n",
    "    file_generator = sgf_generator(glob_string)\n",
    "\n",
    "    batch_size = 64\n",
    "\n",
    "    active_games = set()\n",
    "    active_games_size = batch_size // 8\n",
    "\n",
    "    # go through all the moves in the game\n",
    "    while True:\n",
    "\n",
    "        # remove any games in which we either encounter an illegal move or there are no more moves\n",
    "        for game in active_games.copy():\n",
    "            next_branches = game.get_branches()\n",
    "\n",
    "            # remove the game if it has no more moves or the next move is illegal\n",
    "            if len(next_branches) == 0:\n",
    "                active_games.remove(game)\n",
    "                continue\n",
    "            if not game.is_legal(next_branches[0]):\n",
    "                active_games.remove(game)\n",
    "\n",
    "        # fill active games if we can\n",
    "        while len(active_games) < active_games_size:\n",
    "            next_game = next(file_generator, None)\n",
    "\n",
    "            # only add to active games\n",
    "            if next_game is None:\n",
    "                # reset the generator\n",
    "                print(\"no more games to train on\", file=sys.stderr)\n",
    "                return\n",
    "\n",
    "            branches = next_game.get_branches()\n",
    "\n",
    "            if len(branches) != 0:\n",
    "                # only add the move if the next branch is legal\n",
    "                if next_game.is_legal(next_game.get_branches()[0]):\n",
    "                    active_games.add(next_game)\n",
    "\n",
    "        # go through all the active games and add the moves to the result\n",
    "\n",
    "        # first, compute the size of the batch we are currently operating on\n",
    "        current_batch_size = len(active_games) * 8\n",
    "\n",
    "        # initialize the empty arrays\n",
    "        x = np.zeros(shape=(current_batch_size, 19, 19, 4))\n",
    "        y = np.zeros(shape=(current_batch_size, 19 * 19))\n",
    "\n",
    "        # go through all the active games and fill the arrays\n",
    "        for i, game in enumerate(active_games):\n",
    "\n",
    "            # obtain the branches\n",
    "            branches = game.get_branches()\n",
    "            move = branches[0]\n",
    "\n",
    "            move_array = np.zeros(shape=(19, 19))\n",
    "            move_array[move.get_x(), move.get_y()] = 1\n",
    "\n",
    "\n",
    "            # set x by getting the 8-fold symmetries\n",
    "            x[8 * i:8 * (i + 1)] = get_8_fold_symmetries_x(game)\n",
    "            y[8 * i:8 * (i + 1)] = get_8_fold_symmetries_y(move_array)\n",
    "\n",
    "            # play the move on the board\n",
    "            game.play(move)\n",
    "\n",
    "        # yield the results\n",
    "        yield x, y"
   ],
   "metadata": {
    "collapsed": false
   }
  },
  {
   "cell_type": "markdown",
   "source": [
    "Fit the Model"
   ],
   "metadata": {
    "collapsed": false
   }
  },
  {
   "cell_type": "code",
   "execution_count": 9,
   "outputs": [
    {
     "name": "stdout",
     "output_type": "stream",
     "text": [
      "Epoch 1/25\n"
     ]
    },
    {
     "name": "stderr",
     "output_type": "stream",
     "text": [
      "/var/folders/8p/v3fpbly136b72tk4pw7qhr4r0000gp/T/ipykernel_441/2674019017.py:16: Warning: Unknown SGF Property: \"JD\"\n",
      "  game = sgf.load(file)\n",
      "2022-11-12 11:48:06.179723: I tensorflow/core/grappler/optimizers/custom_graph_optimizer_registry.cc:113] Plugin optimizer for device_type GPU is enabled.\n"
     ]
    },
    {
     "name": "stdout",
     "output_type": "stream",
     "text": [
      " 373/1000 [==========>...................] - ETA: 5:44 - loss: 3.8669"
     ]
    },
    {
     "name": "stderr",
     "output_type": "stream",
     "text": [
      "/var/folders/8p/v3fpbly136b72tk4pw7qhr4r0000gp/T/ipykernel_441/2674019017.py:16: Warning: The Property \"AP\" is not supported on this version of SGF (FF[1])\n",
      "The file was automatically converted to FF[4]\n",
      "  game = sgf.load(file)\n"
     ]
    },
    {
     "name": "stdout",
     "output_type": "stream",
     "text": [
      "1000/1000 [==============================] - 420s 417ms/step - loss: 3.1233\n",
      "Epoch 2/25\n",
      " 385/1000 [==========>...................] - ETA: 3:27 - loss: 2.0985"
     ]
    },
    {
     "name": "stderr",
     "output_type": "stream",
     "text": [
      "/var/folders/8p/v3fpbly136b72tk4pw7qhr4r0000gp/T/ipykernel_441/2674019017.py:16: Warning: Unknown SGF Property: \"OH\"\n",
      "  game = sgf.load(file)\n"
     ]
    },
    {
     "name": "stdout",
     "output_type": "stream",
     "text": [
      " 987/1000 [============================>.] - ETA: 4s - loss: 2.7925"
     ]
    },
    {
     "name": "stderr",
     "output_type": "stream",
     "text": [
      "/var/folders/8p/v3fpbly136b72tk4pw7qhr4r0000gp/T/ipykernel_441/2674019017.py:16: Warning: The Property \"AP\" is not supported on this version of SGF (FF[3])\n",
      "The file was automatically converted to FF[4]\n",
      "  game = sgf.load(file)\n"
     ]
    },
    {
     "name": "stdout",
     "output_type": "stream",
     "text": [
      "1000/1000 [==============================] - 337s 337ms/step - loss: 2.8014\n",
      "Epoch 3/25\n",
      "  40/1000 [>.............................] - ETA: 5:24 - loss: 3.1984"
     ]
    },
    {
     "name": "stderr",
     "output_type": "stream",
     "text": [
      "/var/folders/8p/v3fpbly136b72tk4pw7qhr4r0000gp/T/ipykernel_441/2674019017.py:16: Warning: Unknown SGF Property: \"T\"\n",
      "  game = sgf.load(file)\n",
      "Traceback (most recent call last):\n",
      "  File \"/var/folders/8p/v3fpbly136b72tk4pw7qhr4r0000gp/T/ipykernel_441/2674019017.py\", line 16, in sgf_generator\n",
      "    game = sgf.load(file)\n",
      "sente.exceptions.InvalidSGFException: Error loading file \"sgfs-uploaded/1897/01/08/17170469-Yasui Sanei-Honinbo Shuei.sgf\": The Property \"HO\" is not supported on this version of SGF (FF[4])\n"
     ]
    },
    {
     "name": "stdout",
     "output_type": "stream",
     "text": [
      "  54/1000 [>.............................] - ETA: 5:19 - loss: 3.2251"
     ]
    },
    {
     "name": "stderr",
     "output_type": "stream",
     "text": [
      "/var/folders/8p/v3fpbly136b72tk4pw7qhr4r0000gp/T/ipykernel_441/2674019017.py:16: Warning: Unknown SGF Property: \"MULTIGOGM\"\n",
      "  game = sgf.load(file)\n"
     ]
    },
    {
     "name": "stdout",
     "output_type": "stream",
     "text": [
      " 474/1000 [=============>................] - ETA: 2:57 - loss: 3.2133"
     ]
    },
    {
     "name": "stderr",
     "output_type": "stream",
     "text": [
      "/var/folders/8p/v3fpbly136b72tk4pw7qhr4r0000gp/T/ipykernel_441/2674019017.py:16: Warning: Unknown SGF Property: \"XM\"\n",
      "  game = sgf.load(file)\n"
     ]
    },
    {
     "name": "stdout",
     "output_type": "stream",
     "text": [
      " 534/1000 [===============>..............] - ETA: 2:37 - loss: 3.1596"
     ]
    },
    {
     "name": "stderr",
     "output_type": "stream",
     "text": [
      "/var/folders/8p/v3fpbly136b72tk4pw7qhr4r0000gp/T/ipykernel_441/2674019017.py:16: Warning: The Property \"LB\" is not supported on this version of SGF (FF[1])\n",
      "The file was automatically converted to FF[4]\n",
      "  game = sgf.load(file)\n"
     ]
    },
    {
     "name": "stdout",
     "output_type": "stream",
     "text": [
      " 552/1000 [===============>..............] - ETA: 2:31 - loss: 3.1468"
     ]
    },
    {
     "name": "stderr",
     "output_type": "stream",
     "text": [
      "Traceback (most recent call last):\n",
      "  File \"/var/folders/8p/v3fpbly136b72tk4pw7qhr4r0000gp/T/ipykernel_441/2674019017.py\", line 16, in sgf_generator\n",
      "    game = sgf.load(file)\n",
      "sente.exceptions.InvalidSGFException: Error loading file \"sgfs-uploaded/2013/10/02/4280-None-None.sgf\": unmatched closing parentheses\n",
      "Traceback (most recent call last):\n",
      "  File \"/var/folders/8p/v3fpbly136b72tk4pw7qhr4r0000gp/T/ipykernel_441/2674019017.py\", line 16, in sgf_generator\n",
      "    game = sgf.load(file)\n",
      "sente.exceptions.InvalidSGFException: Error loading file \"sgfs-uploaded/2013/10/26/418265-None-None.sgf\": The Property \"RG\" is not supported on this version of SGF (FF[4])\n",
      "Traceback (most recent call last):\n",
      "  File \"/var/folders/8p/v3fpbly136b72tk4pw7qhr4r0000gp/T/ipykernel_441/2674019017.py\", line 16, in sgf_generator\n",
      "    game = sgf.load(file)\n",
      "ValueError: Invalid Board size 17 only 9x9, 13x13 and 19x19 are currently supported\n"
     ]
    },
    {
     "name": "stdout",
     "output_type": "stream",
     "text": [
      " 559/1000 [===============>..............] - ETA: 2:28 - loss: 3.1332"
     ]
    },
    {
     "name": "stderr",
     "output_type": "stream",
     "text": [
      "Traceback (most recent call last):\n",
      "  File \"/var/folders/8p/v3fpbly136b72tk4pw7qhr4r0000gp/T/ipykernel_441/2674019017.py\", line 16, in sgf_generator\n",
      "    game = sgf.load(file)\n",
      "sente.exceptions.InvalidSGFException: Error loading file \"sgfs-uploaded/2013/10/25/417924-None-None.sgf\": The Property \"RG\" is not supported on this version of SGF (FF[4])\n"
     ]
    },
    {
     "name": "stdout",
     "output_type": "stream",
     "text": [
      " 566/1000 [===============>..............] - ETA: 2:26 - loss: 3.1330"
     ]
    },
    {
     "name": "stderr",
     "output_type": "stream",
     "text": [
      "/var/folders/8p/v3fpbly136b72tk4pw7qhr4r0000gp/T/ipykernel_441/2674019017.py:16: Warning: Unknown SGF Property: \"CoPyright\"\n",
      "  game = sgf.load(file)\n",
      "/var/folders/8p/v3fpbly136b72tk4pw7qhr4r0000gp/T/ipykernel_441/2674019017.py:16: Warning: Unknown SGF Property: \"NW\"\n",
      "  game = sgf.load(file)\n",
      "/var/folders/8p/v3fpbly136b72tk4pw7qhr4r0000gp/T/ipykernel_441/2674019017.py:16: Warning: Unknown SGF Property: \"NB\"\n",
      "  game = sgf.load(file)\n",
      "/var/folders/8p/v3fpbly136b72tk4pw7qhr4r0000gp/T/ipykernel_441/2674019017.py:16: Warning: Unknown SGF Property: \"RR\"\n",
      "  game = sgf.load(file)\n",
      "/var/folders/8p/v3fpbly136b72tk4pw7qhr4r0000gp/T/ipykernel_441/2674019017.py:16: Warning: The Property \"LT\" is not supported on this version of SGF (FF[1])\n",
      "The file was automatically converted to FF[3]\n",
      "  game = sgf.load(file)\n",
      "/var/folders/8p/v3fpbly136b72tk4pw7qhr4r0000gp/T/ipykernel_441/2674019017.py:16: Warning: Unknown SGF Property: \"OS\"\n",
      "  game = sgf.load(file)\n"
     ]
    },
    {
     "name": "stdout",
     "output_type": "stream",
     "text": [
      "1000/1000 [==============================] - 338s 338ms/step - loss: 3.1648\n",
      "Epoch 4/25\n",
      "  39/1000 [>.............................] - ETA: 5:24 - loss: 3.3223"
     ]
    },
    {
     "name": "stderr",
     "output_type": "stream",
     "text": [
      "/var/folders/8p/v3fpbly136b72tk4pw7qhr4r0000gp/T/ipykernel_441/2674019017.py:16: Warning: The Property \"CA\" is not supported on this version of SGF (FF[1])\n",
      "The file was automatically converted to FF[4]\n",
      "  game = sgf.load(file)\n"
     ]
    },
    {
     "name": "stdout",
     "output_type": "stream",
     "text": [
      " 703/1000 [====================>.........] - ETA: 1:40 - loss: 3.2719"
     ]
    },
    {
     "name": "stderr",
     "output_type": "stream",
     "text": [
      "/var/folders/8p/v3fpbly136b72tk4pw7qhr4r0000gp/T/ipykernel_441/2674019017.py:16: Warning: Unknown SGF Property: \"BC\"\n",
      "  game = sgf.load(file)\n",
      "/var/folders/8p/v3fpbly136b72tk4pw7qhr4r0000gp/T/ipykernel_441/2674019017.py:16: Warning: Unknown SGF Property: \"WC\"\n",
      "  game = sgf.load(file)\n"
     ]
    },
    {
     "name": "stdout",
     "output_type": "stream",
     "text": [
      "1000/1000 [==============================] - 358s 358ms/step - loss: 3.2563\n",
      "Epoch 5/25\n",
      "1000/1000 [==============================] - 622s 622ms/step - loss: 3.0823\n",
      "Epoch 6/25\n",
      " 948/1000 [===========================>..] - ETA: 32s - loss: 3.1779"
     ]
    },
    {
     "name": "stderr",
     "output_type": "stream",
     "text": [
      "/var/folders/8p/v3fpbly136b72tk4pw7qhr4r0000gp/T/ipykernel_441/2674019017.py:16: Warning: Unknown SGF Property: \"GDT\"\n",
      "  game = sgf.load(file)\n",
      "PB\"r/folders/8p/v3fpbly136b72tk4pw7qhr4r0000gp/T/ipykernel_441/2674019017.py:16: Warning: Unknown SGF Property: \"P\n",
      "  game = sgf.load(file)\n"
     ]
    },
    {
     "name": "stdout",
     "output_type": "stream",
     "text": [
      "1000/1000 [==============================] - 616s 616ms/step - loss: 3.1786\n",
      "Epoch 7/25\n",
      " 174/1000 [====>.........................] - ETA: 8:23 - loss: 3.1613"
     ]
    },
    {
     "name": "stderr",
     "output_type": "stream",
     "text": [
      "Traceback (most recent call last):\n",
      "  File \"/var/folders/8p/v3fpbly136b72tk4pw7qhr4r0000gp/T/ipykernel_441/2674019017.py\", line 16, in sgf_generator\n",
      "    game = sgf.load(file)\n",
      "ValueError: Invalid Board size 37 only 9x9, 13x13 and 19x19 are currently supported\n"
     ]
    },
    {
     "name": "stdout",
     "output_type": "stream",
     "text": [
      " 637/1000 [==================>...........] - ETA: 3:44 - loss: 3.1391"
     ]
    },
    {
     "name": "stderr",
     "output_type": "stream",
     "text": [
      "AP\"r/folders/8p/v3fpbly136b72tk4pw7qhr4r0000gp/T/ipykernel_441/2674019017.py:16: Warning: Unknown SGF Property: \"BW\n",
      "  game = sgf.load(file)\n",
      "DT\"r/folders/8p/v3fpbly136b72tk4pw7qhr4r0000gp/T/ipykernel_441/2674019017.py:16: Warning: Unknown SGF Property: \"G\n",
      "  game = sgf.load(file)\n"
     ]
    },
    {
     "name": "stdout",
     "output_type": "stream",
     "text": [
      " 977/1000 [============================>.] - ETA: 14s - loss: 3.1607"
     ]
    },
    {
     "name": "stderr",
     "output_type": "stream",
     "text": [
      "Traceback (most recent call last):\n",
      "  File \"/var/folders/8p/v3fpbly136b72tk4pw7qhr4r0000gp/T/ipykernel_441/2674019017.py\", line 16, in sgf_generator\n",
      "    game = sgf.load(file)\n",
      "sente.exceptions.InvalidSGFException: Error loading file \"sgfs-uploaded/2013/01/16/432661-Mahiraku-Tallshort.sgf\": The Property \"LT\" is not supported on this version of SGF (FF[4])\n"
     ]
    },
    {
     "name": "stdout",
     "output_type": "stream",
     "text": [
      "1000/1000 [==============================] - 617s 617ms/step - loss: 3.1591\n",
      "Epoch 8/25\n",
      "1000/1000 [==============================] - 619s 619ms/step - loss: 3.0240\n",
      "Epoch 9/25\n",
      " 911/1000 [==========================>...] - ETA: 40s - loss: 3.0205"
     ]
    },
    {
     "name": "stderr",
     "output_type": "stream",
     "text": [
      "Traceback (most recent call last):\n",
      "  File \"/var/folders/8p/v3fpbly136b72tk4pw7qhr4r0000gp/T/ipykernel_441/2674019017.py\", line 16, in sgf_generator\n",
      "    game = sgf.load(file)\n",
      "sente.exceptions.InvalidSGFException: Error loading file \"sgfs-uploaded/2013/01/26/437625-Mahiraku-mdw602.sgf\": The Property \"LT\" is not supported on this version of SGF (FF[4])\n"
     ]
    },
    {
     "name": "stdout",
     "output_type": "stream",
     "text": [
      "1000/1000 [==============================] - 449s 448ms/step - loss: 3.0142\n",
      "Epoch 10/25\n",
      "1000/1000 [==============================] - 356s 356ms/step - loss: 3.1139\n",
      "Epoch 11/25\n",
      " 466/1000 [============>.................] - ETA: 3:04 - loss: 3.0103"
     ]
    },
    {
     "name": "stderr",
     "output_type": "stream",
     "text": [
      "2022-11-12 13:09:37.528676: W tensorflow/core/framework/op_kernel.cc:1733] UNKNOWN: IllegalMoveException: \n",
      "Traceback (most recent call last):\n",
      "\n",
      "  File \"/Users/arthur/miniforge3/envs/Sedol-Go/lib/python3.10/site-packages/tensorflow/python/ops/script_ops.py\", line 270, in __call__\n",
      "    ret = func(*args)\n",
      "\n",
      "  File \"/Users/arthur/miniforge3/envs/Sedol-Go/lib/python3.10/site-packages/tensorflow/python/autograph/impl/api.py\", line 642, in wrapper\n",
      "    return func(*args, **kwargs)\n",
      "\n",
      "  File \"/Users/arthur/miniforge3/envs/Sedol-Go/lib/python3.10/site-packages/tensorflow/python/data/ops/dataset_ops.py\", line 1030, in generator_py_func\n",
      "    values = next(generator_state.get_iterator(iterator_id))\n",
      "\n",
      "  File \"/Users/arthur/miniforge3/envs/Sedol-Go/lib/python3.10/site-packages/keras/engine/data_adapter.py\", line 831, in wrapped_generator\n",
      "    for data in generator_fn():\n",
      "\n",
      "  File \"/var/folders/8p/v3fpbly136b72tk4pw7qhr4r0000gp/T/ipykernel_441/1768145525.py\", line 32, in training_data_generator\n",
      "    next_game = next(file_generator, None)\n",
      "\n",
      "  File \"/var/folders/8p/v3fpbly136b72tk4pw7qhr4r0000gp/T/ipykernel_441/2674019017.py\", line 16, in sgf_generator\n",
      "    game = sgf.load(file)\n",
      "\n",
      "sente.exceptions.IllegalMoveException\n",
      "\n",
      "\n"
     ]
    },
    {
     "name": "stdout",
     "output_type": "stream",
     "text": [
      " 467/1000 [=============>................] - ETA: 3:04 - loss: 3.0111"
     ]
    },
    {
     "ename": "UnknownError",
     "evalue": "Graph execution error:\n\n2 root error(s) found.\n  (0) UNKNOWN:  IllegalMoveException: \nTraceback (most recent call last):\n\n  File \"/Users/arthur/miniforge3/envs/Sedol-Go/lib/python3.10/site-packages/tensorflow/python/ops/script_ops.py\", line 270, in __call__\n    ret = func(*args)\n\n  File \"/Users/arthur/miniforge3/envs/Sedol-Go/lib/python3.10/site-packages/tensorflow/python/autograph/impl/api.py\", line 642, in wrapper\n    return func(*args, **kwargs)\n\n  File \"/Users/arthur/miniforge3/envs/Sedol-Go/lib/python3.10/site-packages/tensorflow/python/data/ops/dataset_ops.py\", line 1030, in generator_py_func\n    values = next(generator_state.get_iterator(iterator_id))\n\n  File \"/Users/arthur/miniforge3/envs/Sedol-Go/lib/python3.10/site-packages/keras/engine/data_adapter.py\", line 831, in wrapped_generator\n    for data in generator_fn():\n\n  File \"/var/folders/8p/v3fpbly136b72tk4pw7qhr4r0000gp/T/ipykernel_441/1768145525.py\", line 32, in training_data_generator\n    next_game = next(file_generator, None)\n\n  File \"/var/folders/8p/v3fpbly136b72tk4pw7qhr4r0000gp/T/ipykernel_441/2674019017.py\", line 16, in sgf_generator\n    game = sgf.load(file)\n\nsente.exceptions.IllegalMoveException\n\n\n\t [[{{node PyFunc}}]]\n\t [[IteratorGetNext]]\n\t [[categorical_crossentropy/softmax_cross_entropy_with_logits/Shape_2/_14]]\n  (1) UNKNOWN:  IllegalMoveException: \nTraceback (most recent call last):\n\n  File \"/Users/arthur/miniforge3/envs/Sedol-Go/lib/python3.10/site-packages/tensorflow/python/ops/script_ops.py\", line 270, in __call__\n    ret = func(*args)\n\n  File \"/Users/arthur/miniforge3/envs/Sedol-Go/lib/python3.10/site-packages/tensorflow/python/autograph/impl/api.py\", line 642, in wrapper\n    return func(*args, **kwargs)\n\n  File \"/Users/arthur/miniforge3/envs/Sedol-Go/lib/python3.10/site-packages/tensorflow/python/data/ops/dataset_ops.py\", line 1030, in generator_py_func\n    values = next(generator_state.get_iterator(iterator_id))\n\n  File \"/Users/arthur/miniforge3/envs/Sedol-Go/lib/python3.10/site-packages/keras/engine/data_adapter.py\", line 831, in wrapped_generator\n    for data in generator_fn():\n\n  File \"/var/folders/8p/v3fpbly136b72tk4pw7qhr4r0000gp/T/ipykernel_441/1768145525.py\", line 32, in training_data_generator\n    next_game = next(file_generator, None)\n\n  File \"/var/folders/8p/v3fpbly136b72tk4pw7qhr4r0000gp/T/ipykernel_441/2674019017.py\", line 16, in sgf_generator\n    game = sgf.load(file)\n\nsente.exceptions.IllegalMoveException\n\n\n\t [[{{node PyFunc}}]]\n\t [[IteratorGetNext]]\n0 successful operations.\n0 derived errors ignored. [Op:__inference_train_function_17551]",
     "output_type": "error",
     "traceback": [
      "\u001B[0;31m---------------------------------------------------------------------------\u001B[0m",
      "\u001B[0;31mUnknownError\u001B[0m                              Traceback (most recent call last)",
      "Input \u001B[0;32mIn [9]\u001B[0m, in \u001B[0;36m<cell line: 6>\u001B[0;34m()\u001B[0m\n\u001B[1;32m      3\u001B[0m optimizer \u001B[38;5;241m=\u001B[39m keras\u001B[38;5;241m.\u001B[39moptimizers\u001B[38;5;241m.\u001B[39mAdam(learning_rate\u001B[38;5;241m=\u001B[39m\u001B[38;5;241m0.001\u001B[39m)\n\u001B[1;32m      4\u001B[0m model\u001B[38;5;241m.\u001B[39mcompile(optimizer\u001B[38;5;241m=\u001B[39moptimizer, loss\u001B[38;5;241m=\u001B[39m\u001B[38;5;124m\"\u001B[39m\u001B[38;5;124mcategorical_crossentropy\u001B[39m\u001B[38;5;124m\"\u001B[39m)\n\u001B[0;32m----> 6\u001B[0m history \u001B[38;5;241m=\u001B[39m \u001B[43mmodel\u001B[49m\u001B[38;5;241;43m.\u001B[39;49m\u001B[43mfit\u001B[49m\u001B[43m(\u001B[49m\u001B[43mgenerator\u001B[49m\u001B[43m,\u001B[49m\u001B[43m \u001B[49m\u001B[43mepochs\u001B[49m\u001B[38;5;241;43m=\u001B[39;49m\u001B[38;5;241;43m25\u001B[39;49m\u001B[43m,\u001B[49m\u001B[43m \u001B[49m\u001B[43msteps_per_epoch\u001B[49m\u001B[38;5;241;43m=\u001B[39;49m\u001B[38;5;241;43m1000\u001B[39;49m\u001B[43m)\u001B[49m\n",
      "File \u001B[0;32m~/miniforge3/envs/Sedol-Go/lib/python3.10/site-packages/keras/utils/traceback_utils.py:67\u001B[0m, in \u001B[0;36mfilter_traceback.<locals>.error_handler\u001B[0;34m(*args, **kwargs)\u001B[0m\n\u001B[1;32m     65\u001B[0m \u001B[38;5;28;01mexcept\u001B[39;00m \u001B[38;5;167;01mException\u001B[39;00m \u001B[38;5;28;01mas\u001B[39;00m e:  \u001B[38;5;66;03m# pylint: disable=broad-except\u001B[39;00m\n\u001B[1;32m     66\u001B[0m   filtered_tb \u001B[38;5;241m=\u001B[39m _process_traceback_frames(e\u001B[38;5;241m.\u001B[39m__traceback__)\n\u001B[0;32m---> 67\u001B[0m   \u001B[38;5;28;01mraise\u001B[39;00m e\u001B[38;5;241m.\u001B[39mwith_traceback(filtered_tb) \u001B[38;5;28;01mfrom\u001B[39;00m \u001B[38;5;28mNone\u001B[39m\n\u001B[1;32m     68\u001B[0m \u001B[38;5;28;01mfinally\u001B[39;00m:\n\u001B[1;32m     69\u001B[0m   \u001B[38;5;28;01mdel\u001B[39;00m filtered_tb\n",
      "File \u001B[0;32m~/miniforge3/envs/Sedol-Go/lib/python3.10/site-packages/tensorflow/python/eager/execute.py:54\u001B[0m, in \u001B[0;36mquick_execute\u001B[0;34m(op_name, num_outputs, inputs, attrs, ctx, name)\u001B[0m\n\u001B[1;32m     52\u001B[0m \u001B[38;5;28;01mtry\u001B[39;00m:\n\u001B[1;32m     53\u001B[0m   ctx\u001B[38;5;241m.\u001B[39mensure_initialized()\n\u001B[0;32m---> 54\u001B[0m   tensors \u001B[38;5;241m=\u001B[39m pywrap_tfe\u001B[38;5;241m.\u001B[39mTFE_Py_Execute(ctx\u001B[38;5;241m.\u001B[39m_handle, device_name, op_name,\n\u001B[1;32m     55\u001B[0m                                       inputs, attrs, num_outputs)\n\u001B[1;32m     56\u001B[0m \u001B[38;5;28;01mexcept\u001B[39;00m core\u001B[38;5;241m.\u001B[39m_NotOkStatusException \u001B[38;5;28;01mas\u001B[39;00m e:\n\u001B[1;32m     57\u001B[0m   \u001B[38;5;28;01mif\u001B[39;00m name \u001B[38;5;129;01mis\u001B[39;00m \u001B[38;5;129;01mnot\u001B[39;00m \u001B[38;5;28;01mNone\u001B[39;00m:\n",
      "\u001B[0;31mUnknownError\u001B[0m: Graph execution error:\n\n2 root error(s) found.\n  (0) UNKNOWN:  IllegalMoveException: \nTraceback (most recent call last):\n\n  File \"/Users/arthur/miniforge3/envs/Sedol-Go/lib/python3.10/site-packages/tensorflow/python/ops/script_ops.py\", line 270, in __call__\n    ret = func(*args)\n\n  File \"/Users/arthur/miniforge3/envs/Sedol-Go/lib/python3.10/site-packages/tensorflow/python/autograph/impl/api.py\", line 642, in wrapper\n    return func(*args, **kwargs)\n\n  File \"/Users/arthur/miniforge3/envs/Sedol-Go/lib/python3.10/site-packages/tensorflow/python/data/ops/dataset_ops.py\", line 1030, in generator_py_func\n    values = next(generator_state.get_iterator(iterator_id))\n\n  File \"/Users/arthur/miniforge3/envs/Sedol-Go/lib/python3.10/site-packages/keras/engine/data_adapter.py\", line 831, in wrapped_generator\n    for data in generator_fn():\n\n  File \"/var/folders/8p/v3fpbly136b72tk4pw7qhr4r0000gp/T/ipykernel_441/1768145525.py\", line 32, in training_data_generator\n    next_game = next(file_generator, None)\n\n  File \"/var/folders/8p/v3fpbly136b72tk4pw7qhr4r0000gp/T/ipykernel_441/2674019017.py\", line 16, in sgf_generator\n    game = sgf.load(file)\n\nsente.exceptions.IllegalMoveException\n\n\n\t [[{{node PyFunc}}]]\n\t [[IteratorGetNext]]\n\t [[categorical_crossentropy/softmax_cross_entropy_with_logits/Shape_2/_14]]\n  (1) UNKNOWN:  IllegalMoveException: \nTraceback (most recent call last):\n\n  File \"/Users/arthur/miniforge3/envs/Sedol-Go/lib/python3.10/site-packages/tensorflow/python/ops/script_ops.py\", line 270, in __call__\n    ret = func(*args)\n\n  File \"/Users/arthur/miniforge3/envs/Sedol-Go/lib/python3.10/site-packages/tensorflow/python/autograph/impl/api.py\", line 642, in wrapper\n    return func(*args, **kwargs)\n\n  File \"/Users/arthur/miniforge3/envs/Sedol-Go/lib/python3.10/site-packages/tensorflow/python/data/ops/dataset_ops.py\", line 1030, in generator_py_func\n    values = next(generator_state.get_iterator(iterator_id))\n\n  File \"/Users/arthur/miniforge3/envs/Sedol-Go/lib/python3.10/site-packages/keras/engine/data_adapter.py\", line 831, in wrapped_generator\n    for data in generator_fn():\n\n  File \"/var/folders/8p/v3fpbly136b72tk4pw7qhr4r0000gp/T/ipykernel_441/1768145525.py\", line 32, in training_data_generator\n    next_game = next(file_generator, None)\n\n  File \"/var/folders/8p/v3fpbly136b72tk4pw7qhr4r0000gp/T/ipykernel_441/2674019017.py\", line 16, in sgf_generator\n    game = sgf.load(file)\n\nsente.exceptions.IllegalMoveException\n\n\n\t [[{{node PyFunc}}]]\n\t [[IteratorGetNext]]\n0 successful operations.\n0 derived errors ignored. [Op:__inference_train_function_17551]"
     ]
    }
   ],
   "source": [
    "# instantiate the generator\n",
    "generator = training_data_generator(\"sgfs-uploaded/*/*/*/*\")\n",
    "optimizer = keras.optimizers.Adam(learning_rate=0.001)\n",
    "model.compile(optimizer=optimizer, loss=\"categorical_crossentropy\")\n",
    "\n",
    "history = model.fit(generator, epochs=25, steps_per_epoch=1000)"
   ],
   "metadata": {
    "collapsed": false
   }
  },
  {
   "cell_type": "markdown",
   "source": [
    "Plot a Summary and Save weights\n",
    "\n"
   ],
   "metadata": {
    "collapsed": false
   }
  },
  {
   "cell_type": "code",
   "execution_count": null,
   "outputs": [],
   "source": [
    "model.save(\"policy network\")"
   ],
   "metadata": {
    "collapsed": false
   }
  }
 ],
 "metadata": {
  "kernelspec": {
   "display_name": "Python 3",
   "language": "python",
   "name": "python3"
  },
  "language_info": {
   "codemirror_mode": {
    "name": "ipython",
    "version": 2
   },
   "file_extension": ".py",
   "mimetype": "text/x-python",
   "name": "python",
   "nbconvert_exporter": "python",
   "pygments_lexer": "ipython2",
   "version": "2.7.6"
  }
 },
 "nbformat": 4,
 "nbformat_minor": 0
}
