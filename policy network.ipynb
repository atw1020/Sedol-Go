{
 "cells": [
  {
   "cell_type": "code",
   "execution_count": 1,
   "metadata": {
    "collapsed": true
   },
   "outputs": [],
   "source": [
    "# built-in libraries\n",
    "import sys\n",
    "import math\n",
    "import glob\n",
    "import traceback\n",
    "\n",
    "# keras\n",
    "import keras\n",
    "from keras import layers\n",
    "\n",
    "# numpy\n",
    "import numpy as np\n",
    "\n",
    "# tensorflow\n",
    "import tensorflow as tf\n",
    "\n",
    "# matplotlib\n",
    "from matplotlib import pyplot as plt\n",
    "\n",
    "# sente\n",
    "import sente\n",
    "from sente import sgf\n",
    "\n",
    "# tqdm\n",
    "import tqdm"
   ]
  },
  {
   "cell_type": "code",
   "execution_count": 2,
   "outputs": [
    {
     "name": "stdout",
     "output_type": "stream",
     "text": [
      "Scalene extension successfully loaded. Note: Scalene currently only\n",
      "supports CPU+GPU profiling inside Jupyter notebooks. For full Scalene\n",
      "profiling, use the command line version.\n",
      "\n",
      "NOTE: in Jupyter notebook on MacOS, Scalene cannot profile child\n",
      "processes. Do not run to try Scalene with multiprocessing in Jupyter\n",
      "Notebook.\n"
     ]
    }
   ],
   "source": [
    "%load_ext scalene"
   ],
   "metadata": {
    "collapsed": false
   }
  },
  {
   "cell_type": "markdown",
   "source": [
    "Initialize the network\n",
    "\n",
    "Network Architecture originally based on The original AlphaGo Lee Architecture\n",
    "\n",
    "> \"The input to the policy network is a 19 × 19 × 48 image stack consisting of 48 feature planes. The first\n",
    "> hidden layer zero pads the input into a 23 × 23 image, then convolves k filters of kernel size 5 × 5 with\n",
    "> stride 1 with the input image and applies a rectifier nonlinearity. Each of the subsequent hidden layers 2 to\n",
    "> 12 zero pads the respective previous hidden layer into a 21 × 21 image, then convolves k filters of kernel size\n",
    "> 3 × 3 with stride 1, again followed by a rectifier nonlinearity. The final layer convolves 1 filter of kernel\n",
    "> size 1 × 1 with stride 1, with a different bias for each position, and applies a softmax func- tion. The match\n",
    "> version of AlphaGo used k = 192 filters; Fig. 2b and Extended Data Table 3 additionally show the results of\n",
    "> training with k = 128, 256 and 384 filters.\"\n",
    "\n",
    "A few modifications have been made\n",
    "\n",
    "- Only has 4 input Features instead of 48\n",
    "- Uses batch normalization instead of dropout"
   ],
   "metadata": {
    "collapsed": false
   }
  },
  {
   "cell_type": "markdown",
   "source": [
    "Initialize the Data Generator to train the network with.\n",
    "\n",
    "We have 3 basic steps here:\n",
    "1) Create a generator for 19x19 games\n",
    "    1) Glob the files so we have a complete list of them\n",
    "    2) Filter out any games that are not 19x19\n",
    "    3) Filter out any games that have invalid moves (according to sente)\n",
    "2) Extract the features and label\n",
    "    1) Iterate through the files"
   ],
   "metadata": {
    "collapsed": false
   }
  },
  {
   "cell_type": "code",
   "execution_count": 3,
   "outputs": [
    {
     "name": "stdout",
     "output_type": "stream",
     "text": [
      "Metal device set to: Apple M1\n"
     ]
    },
    {
     "name": "stderr",
     "output_type": "stream",
     "text": [
      "2022-11-15 11:18:05.109629: I tensorflow/core/common_runtime/pluggable_device/pluggable_device_factory.cc:305] Could not identify NUMA node of platform GPU ID 0, defaulting to 0. Your kernel may not have been built with NUMA support.\n",
      "2022-11-15 11:18:05.110115: I tensorflow/core/common_runtime/pluggable_device/pluggable_device_factory.cc:271] Created TensorFlow device (/job:localhost/replica:0/task:0/device:GPU:0 with 0 MB memory) -> physical PluggableDevice (device: 0, name: METAL, pci bus id: <undefined>)\n"
     ]
    },
    {
     "name": "stdout",
     "output_type": "stream",
     "text": [
      "Model: \"Policy-Network\"\n",
      "_________________________________________________________________\n",
      " Layer (type)                Output Shape              Param #   \n",
      "=================================================================\n",
      " input_1 (InputLayer)        [(None, 19, 19, 4)]       0         \n",
      "                                                                 \n",
      " conv2d (Conv2D)             (None, 19, 19, 192)       19392     \n",
      "                                                                 \n",
      " batch_normalization (BatchN  (None, 19, 19, 192)      768       \n",
      " ormalization)                                                   \n",
      "                                                                 \n",
      " conv2d_1 (Conv2D)           (None, 19, 19, 192)       331968    \n",
      "                                                                 \n",
      " batch_normalization_1 (Batc  (None, 19, 19, 192)      768       \n",
      " hNormalization)                                                 \n",
      "                                                                 \n",
      " conv2d_2 (Conv2D)           (None, 19, 19, 192)       331968    \n",
      "                                                                 \n",
      " batch_normalization_2 (Batc  (None, 19, 19, 192)      768       \n",
      " hNormalization)                                                 \n",
      "                                                                 \n",
      " conv2d_3 (Conv2D)           (None, 19, 19, 192)       331968    \n",
      "                                                                 \n",
      " batch_normalization_3 (Batc  (None, 19, 19, 192)      768       \n",
      " hNormalization)                                                 \n",
      "                                                                 \n",
      " conv2d_4 (Conv2D)           (None, 19, 19, 192)       331968    \n",
      "                                                                 \n",
      " batch_normalization_4 (Batc  (None, 19, 19, 192)      768       \n",
      " hNormalization)                                                 \n",
      "                                                                 \n",
      " conv2d_5 (Conv2D)           (None, 19, 19, 192)       331968    \n",
      "                                                                 \n",
      " batch_normalization_5 (Batc  (None, 19, 19, 192)      768       \n",
      " hNormalization)                                                 \n",
      "                                                                 \n",
      " conv2d_6 (Conv2D)           (None, 19, 19, 192)       331968    \n",
      "                                                                 \n",
      " batch_normalization_6 (Batc  (None, 19, 19, 192)      768       \n",
      " hNormalization)                                                 \n",
      "                                                                 \n",
      " conv2d_7 (Conv2D)           (None, 19, 19, 192)       331968    \n",
      "                                                                 \n",
      " batch_normalization_7 (Batc  (None, 19, 19, 192)      768       \n",
      " hNormalization)                                                 \n",
      "                                                                 \n",
      " conv2d_8 (Conv2D)           (None, 19, 19, 192)       331968    \n",
      "                                                                 \n",
      " batch_normalization_8 (Batc  (None, 19, 19, 192)      768       \n",
      " hNormalization)                                                 \n",
      "                                                                 \n",
      " conv2d_9 (Conv2D)           (None, 19, 19, 192)       331968    \n",
      "                                                                 \n",
      " batch_normalization_9 (Batc  (None, 19, 19, 192)      768       \n",
      " hNormalization)                                                 \n",
      "                                                                 \n",
      " conv2d_10 (Conv2D)          (None, 19, 19, 192)       331968    \n",
      "                                                                 \n",
      " batch_normalization_10 (Bat  (None, 19, 19, 192)      768       \n",
      " chNormalization)                                                \n",
      "                                                                 \n",
      " conv2d_11 (Conv2D)          (None, 19, 19, 192)       331968    \n",
      "                                                                 \n",
      " batch_normalization_11 (Bat  (None, 19, 19, 192)      768       \n",
      " chNormalization)                                                \n",
      "                                                                 \n",
      " conv2d_12 (Conv2D)          (None, 19, 19, 1)         193       \n",
      "                                                                 \n",
      " flatten (Flatten)           (None, 361)               0         \n",
      "                                                                 \n",
      " softmax (Softmax)           (None, 361)               0         \n",
      "                                                                 \n",
      "=================================================================\n",
      "Total params: 3,680,449\n",
      "Trainable params: 3,675,841\n",
      "Non-trainable params: 4,608\n",
      "_________________________________________________________________\n"
     ]
    }
   ],
   "source": [
    "# get the numpy spec from a generic game\n",
    "input_numpy = sente.Game().numpy()\n",
    "\n",
    "# input layer\n",
    "input_layer = layers.Input(shape=input_numpy.shape)\n",
    "x = input_layer\n",
    "\n",
    "# First layer has a kernel size of 5\n",
    "\n",
    "x = layers.Conv2D(filters=192,\n",
    "                  kernel_size=5,\n",
    "                  padding=\"same\",\n",
    "                  activation=\"relu\"\n",
    "                  )(input_layer)\n",
    "x = layers.BatchNormalization()(x)\n",
    "\n",
    "# subsequent layers have kernel sizes of 3\n",
    "for i in range(11):\n",
    "    x = layers.Conv2D(filters=192,\n",
    "                      kernel_size=3,\n",
    "                      activation=\"relu\",\n",
    "                      padding=\"same\")(x)\n",
    "    x = layers.BatchNormalization()(x)\n",
    "\n",
    "# output layer adds everything together with bias\n",
    "x = layers.Conv2D(filters=1,\n",
    "                  kernel_size=1,\n",
    "                  activation=\"relu\")(x)\n",
    "x = layers.Flatten()(x)\n",
    "output = layers.Softmax()(x)\n",
    "\n",
    "model = keras.Model(inputs=input_layer, outputs=output, name=\"Policy-Network\")\n",
    "# keras.utils.plot_model(model)\n",
    "\n",
    "model.summary()"
   ],
   "metadata": {
    "collapsed": false
   }
  },
  {
   "cell_type": "code",
   "execution_count": 4,
   "outputs": [],
   "source": [
    "def sgf_generator(glob_string):\n",
    "    \"\"\"\n",
    "\n",
    "    create an SGF file generator.\n",
    "\n",
    "    :param glob_string: string to glob files with\n",
    "    :return: a generator yielding\n",
    "    \"\"\"\n",
    "\n",
    "    # obtain a generator for the glob\n",
    "    files = glob.iglob(glob_string)\n",
    "\n",
    "    for file in files:\n",
    "\n",
    "        try:\n",
    "            game = sgf.load(file, ignore_illegal_properties=True, disable_warnings=True)\n",
    "            # game.play_default_sequence()\n",
    "\n",
    "            # if the board is not 19x19, skip\n",
    "            if game.numpy().shape != (19, 19, 4):\n",
    "                continue\n",
    "            else:\n",
    "                # yield the game\n",
    "                yield game\n",
    "        except (sente.exceptions.InvalidSGFException,\n",
    "                sente.exceptions.IllegalMoveException,\n",
    "                ValueError) as error:\n",
    "            # traceback.print_exception(error, file=sys.stderr)\n",
    "            continue\n",
    "\n",
    "def get_8_fold_symmetries_x(game: sente.Game):\n",
    "    \"\"\"\n",
    "\n",
    "    generates a numpy array containing a sente game, expanded to all of its 8-fold symmetries\n",
    "\n",
    "    :param game: the game to get the symmetries for\n",
    "    :return: 8x19x19x4 array containing all duplicates\n",
    "    \"\"\"\n",
    "\n",
    "    board = game.numpy()\n",
    "    transpose = np.transpose(board, axes=(1, 0, 2))\n",
    "    x = np.empty((8,) + board.shape)\n",
    "\n",
    "    x[0, :, :, :] = board\n",
    "    x[1, :, :, :] = np.flip(board, axis=0)\n",
    "    x[2, :, :, :] = np.flip(board, axis=1)\n",
    "    x[3, :, :, :] = np.flip(board, axis=(0, 1))\n",
    "    x[4, :, :, :] = transpose\n",
    "    x[5, :, :, :] = np.flip(transpose, axis=0)\n",
    "    x[6, :, :, :] = np.flip(transpose, axis=1)\n",
    "    x[7, :, :, :] = np.flip(transpose, axis=(0, 1))\n",
    "\n",
    "    return x\n",
    "\n",
    "def get_8_fold_symmetries_y(move: np.array):\n",
    "    \"\"\"\n",
    "\n",
    "    generates a numpy array containing a sente game, expanded to all of its 8-fold symmetries\n",
    "\n",
    "    :param move: the game to get the symmetries for\n",
    "    :return: 8x19x19x4 array containing all duplicates\n",
    "    \"\"\"\n",
    "\n",
    "    transpose = np.transpose(move)\n",
    "    x = np.empty((8,) + move.shape, dtype=np.ubyte)\n",
    "\n",
    "    x[0, :, :] = move\n",
    "    x[1, :, :] = np.flip(move, axis=0)\n",
    "    x[2, :, :] = np.flip(move, axis=1)\n",
    "    x[3, :, :] = np.flip(move, axis=(0, 1))\n",
    "    x[4, :, :] = transpose\n",
    "    x[5, :, :] = np.flip(transpose, axis=0)\n",
    "    x[6, :, :] = np.flip(transpose, axis=1)\n",
    "    x[7, :, :] = np.flip(transpose, axis=(0, 1))\n",
    "\n",
    "    x = np.reshape(x, (8, 19 * 19))\n",
    "\n",
    "    return x\n",
    "\n",
    "def training_data_generator(glob_string: str):\n",
    "    \"\"\"\n",
    "\n",
    "    creates a training data generator object\n",
    "\n",
    "    :return:\n",
    "    \"\"\"\n",
    "\n",
    "    file_generator = sgf_generator(glob_string)\n",
    "\n",
    "    for game in file_generator:\n",
    "\n",
    "        for move in game.get_default_sequence():\n",
    "\n",
    "            # break out of the loop as soon as we hit an illegal move\n",
    "            if not game.is_legal(move):\n",
    "                break\n",
    "\n",
    "            # otherwise, generate a label for the move\n",
    "            move_array = np.zeros(shape=(19, 19))\n",
    "            move_array[move.get_x(), move.get_y()] = 1\n",
    "\n",
    "            # get 8-fold symmetries of the board and the correct move\n",
    "            x = get_8_fold_symmetries_x(game)\n",
    "            y = get_8_fold_symmetries_y(move_array)\n",
    "\n",
    "            # go through all the active games and fill the arrays\n",
    "            for i in range(8):\n",
    "\n",
    "                # yield the results\n",
    "                yield x[i], y[i]\n",
    "\n",
    "            # play the move on the board now\n",
    "            game.play(move)"
   ],
   "metadata": {
    "collapsed": false
   }
  },
  {
   "cell_type": "code",
   "execution_count": 5,
   "outputs": [],
   "source": [
    "dataset = tf.data.Dataset.from_generator(lambda: training_data_generator(\"sgfs-uploaded/2021/*/*/*\"),\n",
    "                                         output_signature=(\n",
    "                                             tf.TensorSpec(shape=(19, 19, 4), dtype=tf.uint8),\n",
    "                                             tf.TensorSpec(shape=(361,))\n",
    "                                         )).batch(32)\n",
    "\n",
    "\n",
    "test_data = dataset.take(10000)\n",
    "training_data = dataset.take(50000)"
   ],
   "metadata": {
    "collapsed": false
   }
  },
  {
   "cell_type": "markdown",
   "source": [
    "Fit the Model"
   ],
   "metadata": {
    "collapsed": false
   }
  },
  {
   "cell_type": "code",
   "execution_count": 10,
   "outputs": [
    {
     "name": "stdout",
     "output_type": "stream",
     "text": [
      "Epoch 1/5\n"
     ]
    },
    {
     "name": "stderr",
     "output_type": "stream",
     "text": [
      "2022-11-15 19:21:36.911096: I tensorflow/core/grappler/optimizers/custom_graph_optimizer_registry.cc:113] Plugin optimizer for device_type GPU is enabled.\n"
     ]
    },
    {
     "name": "stdout",
     "output_type": "stream",
     "text": [
      "  50000/Unknown - 10724s 214ms/step - loss: 2.5432"
     ]
    },
    {
     "name": "stderr",
     "output_type": "stream",
     "text": [
      "2022-11-15 22:20:20.275169: I tensorflow/core/grappler/optimizers/custom_graph_optimizer_registry.cc:113] Plugin optimizer for device_type GPU is enabled.\n"
     ]
    },
    {
     "name": "stdout",
     "output_type": "stream",
     "text": [
      "50000/50000 [==============================] - 11287s 226ms/step - loss: 2.5432 - val_loss: 3785.3047\n",
      "Epoch 2/5\n",
      "50000/50000 [==============================] - 9490s 190ms/step - loss: 2.3597 - val_loss: 4704.6606\n",
      "Epoch 3/5\n",
      "50000/50000 [==============================] - 9533s 191ms/step - loss: 2.2233 - val_loss: 11015689216.0000\n",
      "Epoch 4/5\n",
      "50000/50000 [==============================] - 9735s 195ms/step - loss: 2.1351 - val_loss: 27.4186\n",
      "Epoch 5/5\n",
      "50000/50000 [==============================] - 9737s 195ms/step - loss: 2.0639 - val_loss: 17.3009\n"
     ]
    }
   ],
   "source": [
    "# instantiate the generator\n",
    "optimizer = keras.optimizers.Adam(learning_rate=0.001)\n",
    "model.compile(optimizer=optimizer,\n",
    "              loss=\"categorical_crossentropy\")\n",
    "\n",
    "history = model.fit(training_data, epochs=5, validation_data=test_data)"
   ],
   "metadata": {
    "collapsed": false
   }
  },
  {
   "cell_type": "markdown",
   "source": [
    "Plot a Summary and Save weights\n",
    "\n"
   ],
   "metadata": {
    "collapsed": false
   }
  },
  {
   "cell_type": "code",
   "execution_count": 11,
   "outputs": [
    {
     "name": "stderr",
     "output_type": "stream",
     "text": [
      "WARNING:absl:Found untraced functions such as _jit_compiled_convolution_op, _jit_compiled_convolution_op, _jit_compiled_convolution_op, _jit_compiled_convolution_op, _jit_compiled_convolution_op while saving (showing 5 of 13). These functions will not be directly callable after loading.\n"
     ]
    },
    {
     "name": "stdout",
     "output_type": "stream",
     "text": [
      "INFO:tensorflow:Assets written to: policy network/assets\n"
     ]
    },
    {
     "name": "stderr",
     "output_type": "stream",
     "text": [
      "INFO:tensorflow:Assets written to: policy network/assets\n"
     ]
    },
    {
     "data": {
      "text/plain": "<Figure size 640x480 with 1 Axes>",
      "image/png": "[encoded data removed]"
     },
     "metadata": {},
     "output_type": "display_data"
    }
   ],
   "source": [
    "model.save(\"policy network\")\n",
    "\n",
    "# plot the data\n",
    "plt.plot(history.history[\"loss\"])\n",
    "plt.plot(history.history[\"val_loss\"])\n",
    "\n",
    "# label the axes\n",
    "plt.xlabel(\"epoch\")\n",
    "plt.ylabel(\"loss\")\n",
    "\n",
    "plt.title(\"Loss over Epochs (categorical crossentropy)\")\n",
    "plt.legend([\"training loss\", \"validation loss\"])\n",
    "plt.show()"
   ],
   "metadata": {
    "collapsed": false
   }
  }
 ],
 "metadata": {
  "kernelspec": {
   "display_name": "Python 3",
   "language": "python",
   "name": "python3"
  },
  "language_info": {
   "codemirror_mode": {
    "name": "ipython",
    "version": 2
   },
   "file_extension": ".py",
   "mimetype": "text/x-python",
   "name": "python",
   "nbconvert_exporter": "python",
   "pygments_lexer": "ipython2",
   "version": "2.7.6"
  }
 },
 "nbformat": 4,
 "nbformat_minor": 0
}
